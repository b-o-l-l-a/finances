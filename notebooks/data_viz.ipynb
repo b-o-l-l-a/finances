{
 "cells": [
  {
   "cell_type": "code",
   "execution_count": 1,
   "metadata": {},
   "outputs": [],
   "source": [
    "import pandas as pd\n",
    "import os\n",
    "import git"
   ]
  },
  {
   "cell_type": "code",
   "execution_count": 2,
   "metadata": {},
   "outputs": [],
   "source": [
    "def get_git_root(path):\n",
    "    git_repo = git.Repo(path, search_parent_directories=True)\n",
    "    git_root = git_repo.git.rev_parse(\"--show-toplevel\")\n",
    "    return git_root\n",
    "\n",
    "txn_date_col_name = \"txn_date\"\n",
    "txn_description_col_name = \"txn_description\"\n",
    "txn_amount_col_name = \"txn_amount\"\n",
    "txn_category_col_name = \"category\"\n",
    "txn_subcat_col_name = \"sub_category\"\n",
    "processed_txn_filename = \"categorized_txn.csv\"\n",
    "bank_col_name = \"bank\"\n",
    "id_col_name = \"unique_id\"\n",
    "txn_strftime_format = \"%Y-%m-%d\"\n",
    "\n",
    "data_root_dir_append = \"data\"\n",
    "data_raw_dir_append = \"data/raw\"\n",
    "data_interim_dir_append = \"data/interim\"\n",
    "data_processed_dir_append = \"data/processed\"\n",
    "\n",
    "processed_txn_filename = \"categorized_txn.csv\""
   ]
  },
  {
   "cell_type": "code",
   "execution_count": 3,
   "metadata": {
    "scrolled": true
   },
   "outputs": [],
   "source": [
    "git_root_path = get_git_root(os.getcwd())\n",
    "interim_data_path = os.path.join(git_root_path, data_interim_dir_append)\n",
    "interim_txn_path = os.path.join(interim_data_path, processed_txn_filename)\n",
    "\n",
    "interim_txn_df = pd.read_csv(interim_txn_path, index_col= id_col_name)\n",
    "interim_txn_df[txn_date_col_name] = pd.to_datetime(interim_txn_df[txn_date_col_name], format=txn_strftime_format)\n",
    "#interim_txn_df[txn_date_col_name] = pd.to_datetime(interim_txn_df[txn_date_col_name], format=\"%m/%d/%y\")"
   ]
  },
  {
   "cell_type": "code",
   "execution_count": null,
   "metadata": {},
   "outputs": [],
   "source": [
    "# interim_txn_df[txn_date_col_name] = interim_txn_df.apply(\n",
    "#     lambda x: x[txn_date_col_name].strftime(txn_strftime_format),\n",
    "#     axis = 1\n",
    "# )\n",
    "\n",
    "# interim_txn_df = interim_txn_df.sort_values(\"txn_date\", ascending=False)\n",
    "# interim_txn_df.to_csv(interim_txn_path)"
   ]
  },
  {
   "cell_type": "code",
   "execution_count": 4,
   "metadata": {},
   "outputs": [
    {
     "data": {
      "text/html": [
       "<div>\n",
       "<style scoped>\n",
       "    .dataframe tbody tr th:only-of-type {\n",
       "        vertical-align: middle;\n",
       "    }\n",
       "\n",
       "    .dataframe tbody tr th {\n",
       "        vertical-align: top;\n",
       "    }\n",
       "\n",
       "    .dataframe thead th {\n",
       "        text-align: right;\n",
       "    }\n",
       "</style>\n",
       "<table border=\"1\" class=\"dataframe\">\n",
       "  <thead>\n",
       "    <tr style=\"text-align: right;\">\n",
       "      <th></th>\n",
       "      <th>category</th>\n",
       "      <th>sub_category</th>\n",
       "      <th>txn_amount</th>\n",
       "      <th>txn_date</th>\n",
       "      <th>txn_description</th>\n",
       "    </tr>\n",
       "    <tr>\n",
       "      <th>unique_id</th>\n",
       "      <th></th>\n",
       "      <th></th>\n",
       "      <th></th>\n",
       "      <th></th>\n",
       "      <th></th>\n",
       "    </tr>\n",
       "  </thead>\n",
       "  <tbody>\n",
       "    <tr>\n",
       "      <th>usaa_checking_20191217_21.73</th>\n",
       "      <td>Vanlife</td>\n",
       "      <td>Auto Parts</td>\n",
       "      <td>-21.73</td>\n",
       "      <td>2019-12-17</td>\n",
       "      <td>AMZN Mktp US*XA2802ID3   AMZN.COM BILLWA</td>\n",
       "    </tr>\n",
       "    <tr>\n",
       "      <th>usaa_checking_20191217_8.0</th>\n",
       "      <td>Gifts and Donations</td>\n",
       "      <td>Holiday/Birthday</td>\n",
       "      <td>-8.00</td>\n",
       "      <td>2019-12-17</td>\n",
       "      <td>TST* STIR COOKING SCHOOLTDENVER       CO</td>\n",
       "    </tr>\n",
       "    <tr>\n",
       "      <th>usaa_checking_20191217_4.2</th>\n",
       "      <td>Dining Out</td>\n",
       "      <td>Coffee</td>\n",
       "      <td>-4.20</td>\n",
       "      <td>2019-12-17</td>\n",
       "      <td>SQ *ALLEGRO COFFEE       DENVER       CO</td>\n",
       "    </tr>\n",
       "    <tr>\n",
       "      <th>usaa_checking_20191216_53.2</th>\n",
       "      <td>Gifts and Donations</td>\n",
       "      <td>Holiday/Birthday</td>\n",
       "      <td>-53.20</td>\n",
       "      <td>2019-12-16</td>\n",
       "      <td>KiwiCo  Inc.             800-7144828  CA</td>\n",
       "    </tr>\n",
       "    <tr>\n",
       "      <th>usaa_checking_20191216_23.65</th>\n",
       "      <td>Dining Out</td>\n",
       "      <td>Bars</td>\n",
       "      <td>-23.65</td>\n",
       "      <td>2019-12-16</td>\n",
       "      <td>WILDWOOD                 VAIL         CO</td>\n",
       "    </tr>\n",
       "    <tr>\n",
       "      <th>...</th>\n",
       "      <td>...</td>\n",
       "      <td>...</td>\n",
       "      <td>...</td>\n",
       "      <td>...</td>\n",
       "      <td>...</td>\n",
       "    </tr>\n",
       "    <tr>\n",
       "      <th>usaa_checking_20191017_40.53</th>\n",
       "      <td>Vanlife</td>\n",
       "      <td>Accessories</td>\n",
       "      <td>-40.53</td>\n",
       "      <td>2019-10-17</td>\n",
       "      <td>AMZN Mktp US*T99F66V83   AMZN.COM BILLWA</td>\n",
       "    </tr>\n",
       "    <tr>\n",
       "      <th>usaa_checking_20191016_7.95</th>\n",
       "      <td>Groceries</td>\n",
       "      <td>Non-Food</td>\n",
       "      <td>-7.95</td>\n",
       "      <td>2019-10-16</td>\n",
       "      <td>SKIN CO.                 HTTPSWWW.LUMICA</td>\n",
       "    </tr>\n",
       "    <tr>\n",
       "      <th>usaa_checking_20191016_8.0</th>\n",
       "      <td>Dining Out</td>\n",
       "      <td>Bars</td>\n",
       "      <td>-8.00</td>\n",
       "      <td>2019-10-16</td>\n",
       "      <td>RUSTY MELON              ERIE         CO</td>\n",
       "    </tr>\n",
       "    <tr>\n",
       "      <th>usaa_checking_20191016_40.0</th>\n",
       "      <td>Vanlife</td>\n",
       "      <td>Loan Payment</td>\n",
       "      <td>-40.00</td>\n",
       "      <td>2019-10-16</td>\n",
       "      <td>USAA LOAN PAYMENT</td>\n",
       "    </tr>\n",
       "    <tr>\n",
       "      <th>usaa_checking_20191016_8.0</th>\n",
       "      <td>Dining Out</td>\n",
       "      <td>Bars</td>\n",
       "      <td>-8.00</td>\n",
       "      <td>2019-10-16</td>\n",
       "      <td>RUSTY MELON              ERIE         CO</td>\n",
       "    </tr>\n",
       "  </tbody>\n",
       "</table>\n",
       "<p>222 rows × 5 columns</p>\n",
       "</div>"
      ],
      "text/plain": [
       "                                         category      sub_category  \\\n",
       "unique_id                                                             \n",
       "usaa_checking_20191217_21.73              Vanlife        Auto Parts   \n",
       "usaa_checking_20191217_8.0    Gifts and Donations  Holiday/Birthday   \n",
       "usaa_checking_20191217_4.2             Dining Out            Coffee   \n",
       "usaa_checking_20191216_53.2   Gifts and Donations  Holiday/Birthday   \n",
       "usaa_checking_20191216_23.65           Dining Out              Bars   \n",
       "...                                           ...               ...   \n",
       "usaa_checking_20191017_40.53              Vanlife       Accessories   \n",
       "usaa_checking_20191016_7.95             Groceries          Non-Food   \n",
       "usaa_checking_20191016_8.0             Dining Out              Bars   \n",
       "usaa_checking_20191016_40.0               Vanlife      Loan Payment   \n",
       "usaa_checking_20191016_8.0             Dining Out              Bars   \n",
       "\n",
       "                              txn_amount   txn_date  \\\n",
       "unique_id                                             \n",
       "usaa_checking_20191217_21.73      -21.73 2019-12-17   \n",
       "usaa_checking_20191217_8.0         -8.00 2019-12-17   \n",
       "usaa_checking_20191217_4.2         -4.20 2019-12-17   \n",
       "usaa_checking_20191216_53.2       -53.20 2019-12-16   \n",
       "usaa_checking_20191216_23.65      -23.65 2019-12-16   \n",
       "...                                  ...        ...   \n",
       "usaa_checking_20191017_40.53      -40.53 2019-10-17   \n",
       "usaa_checking_20191016_7.95        -7.95 2019-10-16   \n",
       "usaa_checking_20191016_8.0         -8.00 2019-10-16   \n",
       "usaa_checking_20191016_40.0       -40.00 2019-10-16   \n",
       "usaa_checking_20191016_8.0         -8.00 2019-10-16   \n",
       "\n",
       "                                                       txn_description  \n",
       "unique_id                                                               \n",
       "usaa_checking_20191217_21.73  AMZN Mktp US*XA2802ID3   AMZN.COM BILLWA  \n",
       "usaa_checking_20191217_8.0    TST* STIR COOKING SCHOOLTDENVER       CO  \n",
       "usaa_checking_20191217_4.2    SQ *ALLEGRO COFFEE       DENVER       CO  \n",
       "usaa_checking_20191216_53.2   KiwiCo  Inc.             800-7144828  CA  \n",
       "usaa_checking_20191216_23.65  WILDWOOD                 VAIL         CO  \n",
       "...                                                                ...  \n",
       "usaa_checking_20191017_40.53  AMZN Mktp US*T99F66V83   AMZN.COM BILLWA  \n",
       "usaa_checking_20191016_7.95   SKIN CO.                 HTTPSWWW.LUMICA  \n",
       "usaa_checking_20191016_8.0    RUSTY MELON              ERIE         CO  \n",
       "usaa_checking_20191016_40.0                          USAA LOAN PAYMENT  \n",
       "usaa_checking_20191016_8.0    RUSTY MELON              ERIE         CO  \n",
       "\n",
       "[222 rows x 5 columns]"
      ]
     },
     "execution_count": 4,
     "metadata": {},
     "output_type": "execute_result"
    }
   ],
   "source": [
    "interim_txn_df"
   ]
  },
  {
   "cell_type": "code",
   "execution_count": null,
   "metadata": {
    "scrolled": true
   },
   "outputs": [],
   "source": [
    "processed_txn_df = interim_txn_df.copy()"
   ]
  },
  {
   "cell_type": "code",
   "execution_count": null,
   "metadata": {},
   "outputs": [],
   "source": [
    "processed_txn_df"
   ]
  },
  {
   "cell_type": "code",
   "execution_count": null,
   "metadata": {},
   "outputs": [],
   "source": [
    "processed_txn_df['year'] = processed_txn_df.apply(\n",
    "    lambda x: \n",
    "    x[txn_date_col_name].year\n",
    "    , axis = 1\n",
    ")\n",
    "\n",
    "processed_txn_df['month'] = processed_txn_df.apply(\n",
    "    lambda x: \n",
    "    x[txn_date_col_name].month\n",
    "    , axis = 1\n",
    ")\n",
    "\n",
    "processed_txn_df['day'] = processed_txn_df.apply(\n",
    "    lambda x: \n",
    "    x[txn_date_col_name].day\n",
    "    , axis = 1\n",
    ")\n",
    "\n",
    "processed_txn_df['weekday'] = processed_txn_df.apply(\n",
    "    lambda x: \n",
    "    x[txn_date_col_name].strftime(\"%A\")\n",
    "    , axis = 1\n",
    ")\n",
    "\n",
    "# get expenses to be positive\n",
    "processed_txn_df[txn_amount_col_name] = processed_txn_df.apply(\n",
    "    lambda x: \n",
    "    -1 * x[txn_amount_col_name] if x[txn_category_col_name] != 'Salary' else x[txn_amount_col_name]\n",
    "    , axis = 1\n",
    ")"
   ]
  },
  {
   "cell_type": "code",
   "execution_count": null,
   "metadata": {},
   "outputs": [],
   "source": [
    "processed_txn_df"
   ]
  },
  {
   "cell_type": "code",
   "execution_count": null,
   "metadata": {},
   "outputs": [],
   "source": [
    "cat_detail_df = processed_txn_df.groupby([txn_category_col_name, 'year', 'month']).agg(\n",
    "    sum_txns = pd.NamedAgg(column = txn_amount_col_name, aggfunc=sum),\n",
    "    num_txns = pd.NamedAgg(column = txn_amount_col_name, aggfunc=pd.Series.nunique)\n",
    ").reset_index()\n",
    "\n",
    "subcat_detail_df = processed_txn_df.groupby([txn_category_col_name, txn_subcat_col_name, 'year', 'month']).agg(\n",
    "    sum_txns = pd.NamedAgg(column = txn_amount_col_name, aggfunc=sum),\n",
    "    num_txns = pd.NamedAgg(column = txn_amount_col_name, aggfunc=pd.Series.nunique)\n",
    ").reset_index()\n",
    "\n",
    "cat_detail_df['avg_per_txn'] = cat_detail_df['sum_txns'] / cat_detail_df['num_txns']\n",
    "subcat_detail_df['avg_per_txn'] = subcat_detail_df['sum_txns'] / subcat_detail_df['num_txns']"
   ]
  },
  {
   "cell_type": "code",
   "execution_count": null,
   "metadata": {
    "scrolled": true
   },
   "outputs": [],
   "source": [
    "subcat_detail_df\n",
    "#subcat_detail_df.to_csv('./subcat_detail.csv', index= False)\n",
    "# subcat_detail_df.pivot(index='month', columns='category', values='sum_txns').plot(kind='bar')"
   ]
  },
  {
   "cell_type": "code",
   "execution_count": null,
   "metadata": {},
   "outputs": [],
   "source": [
    "subcat_detail_df[[txn_category_col_name, txn_subcat_col_name]].drop_duplicates().reset_index(drop=True)"
   ]
  },
  {
   "cell_type": "code",
   "execution_count": null,
   "metadata": {},
   "outputs": [],
   "source": []
  },
  {
   "cell_type": "code",
   "execution_count": null,
   "metadata": {},
   "outputs": [],
   "source": [
    "cat_specific_df = month_grouped_df[month_grouped_df['category'] == 'Food and Dining']\n",
    "#example_df = month_grouped_df[month_grouped_df['sub_category'] == \"Auto - Gas\"]\n",
    "#month_grouped_df[month_grouped_df['category'] == \"Auto and Transport\"]\n",
    "cat_specific_df"
   ]
  },
  {
   "cell_type": "code",
   "execution_count": null,
   "metadata": {
    "scrolled": true
   },
   "outputs": [],
   "source": [
    "cat_specific_df.pivot(index='month', columns='sub_category', values='sum_txns').plot(kind='bar')"
   ]
  },
  {
   "cell_type": "code",
   "execution_count": null,
   "metadata": {},
   "outputs": [],
   "source": []
  }
 ],
 "metadata": {
  "kernelspec": {
   "display_name": "Python 3",
   "language": "python",
   "name": "python3"
  },
  "language_info": {
   "codemirror_mode": {
    "name": "ipython",
    "version": 3
   },
   "file_extension": ".py",
   "mimetype": "text/x-python",
   "name": "python",
   "nbconvert_exporter": "python",
   "pygments_lexer": "ipython3",
   "version": "3.7.0"
  }
 },
 "nbformat": 4,
 "nbformat_minor": 2
}
